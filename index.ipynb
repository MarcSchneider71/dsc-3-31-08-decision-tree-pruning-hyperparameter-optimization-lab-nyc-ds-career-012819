{
 "cells": [
  {
   "cell_type": "markdown",
   "metadata": {},
   "source": [
    "# Hyperparameter Tuning and Pruning in Decision Trees - Lab\n",
    "\n",
    "## Introduction\n",
    "\n",
    "In this lab we will use the titanic dataset to see the impact of tree pruning and hyper parameter tuning on the predictive performance of decision tree classifier. Pruning reduces the size of decision trees by removing nodes of the tree that do not provide power to classify instances. Decision trees are the most susceptible out of all the machine learning algorithms to overfitting and effective pruning can reduce this likelihood. In this lab, we shall work with the Titanic dataset and see how we can tweak different hyper parameters for optimal pruning of the trees. \n",
    "\n",
    "## Objectives\n",
    "You will be able to:\n",
    "- Demonstrate how pruning is performed for decision trees \n",
    "- Understand and explain the role of different Decision tree hyperparameters\n",
    "- Select the best values for chosen hyperparameters and monitor the improvemen in performance"
   ]
  },
  {
   "cell_type": "markdown",
   "metadata": {},
   "source": [
    "## Import necessary libraries\n",
    "\n",
    "Let's first import the libraries you would need for this lab. "
   ]
  },
  {
   "cell_type": "code",
   "execution_count": 1,
   "metadata": {},
   "outputs": [],
   "source": [
    "import numpy as np\n",
    "import pandas as pd\n",
    "import matplotlib as mpl\n",
    "import matplotlib.pyplot as plt\n",
    "from sklearn.model_selection import train_test_split\n",
    "from sklearn.tree import DecisionTreeClassifier\n",
    "from sklearn.metrics import roc_curve, auc, roc_auc_score\n",
    "plt.style.use('seaborn')\n",
    "\n"
   ]
  },
  {
   "cell_type": "markdown",
   "metadata": {},
   "source": [
    "## Read the Titanic Dataset\n",
    "\n",
    "In the repo, we have made titanic dataset , all cleaned up and pre-processed for you, so that you can focus on pruning and optimization. The features set is available as `featues.csv` and target variable as `target.csv`. \n",
    "- Load these files into separate dataframes below.\n",
    "- Check the shape for consistency and the view the head "
   ]
  },
  {
   "cell_type": "code",
   "execution_count": 2,
   "metadata": {},
   "outputs": [
    {
     "data": {
      "text/html": [
       "<div>\n",
       "<style scoped>\n",
       "    .dataframe tbody tr th:only-of-type {\n",
       "        vertical-align: middle;\n",
       "    }\n",
       "\n",
       "    .dataframe tbody tr th {\n",
       "        vertical-align: top;\n",
       "    }\n",
       "\n",
       "    .dataframe thead th {\n",
       "        text-align: right;\n",
       "    }\n",
       "</style>\n",
       "<table border=\"1\" class=\"dataframe\">\n",
       "  <thead>\n",
       "    <tr style=\"text-align: right;\">\n",
       "      <th></th>\n",
       "      <th>Survived</th>\n",
       "    </tr>\n",
       "  </thead>\n",
       "  <tbody>\n",
       "    <tr>\n",
       "      <th>0</th>\n",
       "      <td>0</td>\n",
       "    </tr>\n",
       "    <tr>\n",
       "      <th>1</th>\n",
       "      <td>1</td>\n",
       "    </tr>\n",
       "    <tr>\n",
       "      <th>2</th>\n",
       "      <td>1</td>\n",
       "    </tr>\n",
       "    <tr>\n",
       "      <th>3</th>\n",
       "      <td>1</td>\n",
       "    </tr>\n",
       "    <tr>\n",
       "      <th>4</th>\n",
       "      <td>0</td>\n",
       "    </tr>\n",
       "  </tbody>\n",
       "</table>\n",
       "</div>"
      ],
      "text/plain": [
       "   Survived\n",
       "0         0\n",
       "1         1\n",
       "2         1\n",
       "3         1\n",
       "4         0"
      ]
     },
     "execution_count": 2,
     "metadata": {},
     "output_type": "execute_result"
    }
   ],
   "source": [
    "# Load features and target variables\n",
    "\n",
    "# Your code here \n",
    "df= pd.read_csv('features.csv')\n",
    "df1= pd.read_csv('target.csv')\n",
    "df\n",
    "df1.head()"
   ]
  },
  {
   "cell_type": "markdown",
   "metadata": {},
   "source": [
    "This is great. Now that we have our x (feat) and y(target), we can go ahead and make a split necessary for supervised learning."
   ]
  },
  {
   "cell_type": "markdown",
   "metadata": {},
   "source": [
    "## Create a 70/30 Train/Test split\n",
    "- Using features and target variables above , create a 70/30 split using "
   ]
  },
  {
   "cell_type": "code",
   "execution_count": 3,
   "metadata": {},
   "outputs": [],
   "source": [
    "# Create a 70/30 split for given X and y \n",
    "\n",
    "X= df\n",
    "y= df1\n",
    "X_train, X_test, y_train, y_test = train_test_split(X,y, test_size=.3)\n",
    "# Your code here "
   ]
  },
  {
   "cell_type": "markdown",
   "metadata": {},
   "source": [
    "So now we have our data ready for training, lets first train a DT classifier with this data\n",
    "## Train a Vanilla Classifier\n",
    "\n",
    "__Note:__ The term \"vanilla\" is used for a machine learning algorithm with its default settings (no tweaking/tuning).\n",
    "\n",
    "- Create a decision tree instance\n",
    "- Fit a DT classifier with training dataset using all default settings for hyperparameters i.e. we dont change any parameter.\n",
    "- Set the impurity crietria to \"entropy\"."
   ]
  },
  {
   "cell_type": "code",
   "execution_count": 4,
   "metadata": {},
   "outputs": [],
   "source": [
    "# Train the classifier using training data \n",
    "\n",
    "clf= DecisionTreeClassifier(criterion='entropy')\n",
    "model_tree = clf.fit(X_train,y_train)\n",
    "# Your code here "
   ]
  },
  {
   "cell_type": "markdown",
   "metadata": {},
   "source": [
    "## Make predictions \n",
    "- Create a set of predictions using the test set \n",
    "- Using `y_test` and `y_pred`, calculate the AUC (Area under curve) to check the predictive performance"
   ]
  },
  {
   "cell_type": "code",
   "execution_count": 5,
   "metadata": {},
   "outputs": [
    {
     "data": {
      "text/plain": [
       "1.0"
      ]
     },
     "execution_count": 5,
     "metadata": {},
     "output_type": "execute_result"
    }
   ],
   "source": [
    "# Make predictions using test set \n",
    "\n",
    "y_hat_test=model_tree.predict(X_test)\n",
    "y_hat_train= model_tree.predict(X_train)\n",
    "\n",
    "# Your code here \n",
    "\n",
    "\n",
    "# Check the AUC of predictions\n",
    "roc_auc_score(y_test, y_hat_test)\n",
    "roc_auc_score(y_train, y_hat_train)\n",
    "\n",
    "# Your code here "
   ]
  },
  {
   "cell_type": "markdown",
   "metadata": {},
   "source": [
    "## Maximum Tree Depth\n",
    "\n",
    "Let's first check for the best depth parameter for our decision tree. \n",
    "- Create an array for for depth values ranging from 1 - 32. \n",
    "- In a loop, train the classifier for each depth value (32 runs) \n",
    "- Calculate the training and test AUC for each run \n",
    "- Plot a graph to show under/over fitting and optimal value \n",
    "- Interpret the results"
   ]
  },
  {
   "cell_type": "code",
   "execution_count": null,
   "metadata": {},
   "outputs": [],
   "source": []
  },
  {
   "cell_type": "code",
   "execution_count": 6,
   "metadata": {
    "scrolled": true
   },
   "outputs": [
    {
     "data": {
      "image/png": "[encoded data removed]",
      "text/plain": [
       "<Figure size 432x288 with 1 Axes>"
      ]
     },
     "metadata": {
      "needs_background": "light"
     },
     "output_type": "display_data"
    }
   ],
   "source": [
    "\n",
    "# Identify the optimal tree depth for given data\n",
    "import numpy as np\n",
    "arr= np.arange(1,33)\n",
    "roc_test = []\n",
    "roc_train = []\n",
    "for i in arr:\n",
    "    clf= DecisionTreeClassifier(criterion='entropy', max_depth= i)\n",
    "    model_tree= clf.fit(X_train,y_train)\n",
    "    y_hat_test= model_tree.predict(X_test)\n",
    "    y_hat_train=model_tree.predict(X_train)\n",
    "    roc_test_score= roc_auc_score(y_test, y_hat_test)\n",
    "    roc_test.append(roc_test_score)\n",
    "    roc_train_score= roc_auc_score(y_train,y_hat_train)\n",
    "    roc_train.append(roc_train_score)\n",
    "\n",
    "plt.plot(arr,roc_test, label = 'test')\n",
    "plt.plot(arr,roc_train, label= 'train')\n",
    "plt.ylabel('AUC Score')\n",
    "plt.xlabel('Max Tree Depth')\n",
    "plt.title('AUC Score Vs. Max Tree Depth')\n",
    "plt.legend()\n",
    "plt.show();\n",
    "\n",
    "# Your code here "
   ]
  },
  {
   "cell_type": "markdown",
   "metadata": {},
   "source": [
    "# You observations here \n",
    "For our train set the max depth increase our AUC score up until the depth of 15 branches, but flattens out after than. Our AUC for our test set reaches a max at depth roughly between 3 and 4."
   ]
  },
  {
   "cell_type": "markdown",
   "metadata": {},
   "source": [
    "## Minimum Sample Split\n",
    "\n",
    "Now check for the best `min_samples_splits` parameter for our decision tree. \n",
    "- Create an array for for `min_sample_splits` values ranging from 0.1 - 1 with an increment of 0.1 \n",
    "- In a loop, train the classifier for each `min_samples_splits` value (10 runs) \n",
    "- Calculate the training and test AUC for each run \n",
    "- Plot a graph to show under/over fitting and optimal value \n",
    "- Interpret the results"
   ]
  },
  {
   "cell_type": "code",
   "execution_count": 74,
   "metadata": {},
   "outputs": [],
   "source": [
    "# Identify the optimal min-samples-split for given data\n",
    "import numpy as np\n",
    "arr= np.linspace(.1,1.,10, endpoint= True)\n",
    "roc_test = []\n",
    "roc_train = []\n",
    "for i in arr:\n",
    "    clf= DecisionTreeClassifier(min_samples_split= i)\n",
    "    model_tree= clf.fit(X_train,y_train)\n",
    "    y_hat_test= model_tree.predict(X_test)\n",
    "    y_hat_train=model_tree.predict(X_train)\n",
    "    roc_test_score= roc_auc_score(y_test, y_hat_test)\n",
    "    roc_test.append(roc_test_score)\n",
    "    roc_train_score= roc_auc_score(y_train,y_hat_train)\n",
    "    roc_train.append(roc_train_score)\n",
    "\n",
    "plt.plot(arr,roc_test, label = 'test')\n",
    "plt.plot(arr,roc_train, label= 'train')\n",
    "plt.ylabel('AUC Score')\n",
    "plt.xlabel('Min Samples Split')\n",
    "plt.title('AUC Score Vs. Min Samples Split')\n",
    "plt.legend()\n",
    "plt.show();\n",
    "# Your code here \n",
    "\n",
    "# Your code here "
   ]
  },
  {
   "cell_type": "markdown",
   "metadata": {},
   "source": [
    "# Your observations\n",
    "For both train and test set as \"min splits\" increases, AUC bottoms out and then increases to a max at min samples split reaches .4\n",
    "\n"
   ]
  },
  {
   "cell_type": "markdown",
   "metadata": {},
   "source": [
    "## Minimum Sample Leafs\n",
    "\n",
    "Now check for the best `min_samples_leafs` parameter value for our decision tree. \n",
    "- Create an array for for `min_samples_leafs` values ranging from 0.1 - 0.5 with an increment of 0.1 \n",
    "- In a loop, train the classifier for each `min_samples_leafs` value (5 runs) \n",
    "- Calculate the training and test AUC for each run \n",
    "- Plot a graph to show under/over fitting and optimal value \n",
    "- Interpret the results"
   ]
  },
  {
   "cell_type": "code",
   "execution_count": 75,
   "metadata": {},
   "outputs": [],
   "source": [
    "# Calculate the optimal value for minimum sample leafs\n",
    "# Identify the optimal min-samples-split for given data\n",
    "import numpy as np\n",
    "arr= np.linspace(.1,.5,5, endpoint= True)\n",
    "roc_test = []\n",
    "roc_train = []\n",
    "for i in arr:\n",
    "    clf= DecisionTreeClassifier(criterion= 'entropy', min_samples_leaf= i)\n",
    "    model_tree= clf.fit(X_train,y_train)\n",
    "    y_hat_test= model_tree.predict(X_test)\n",
    "    y_hat_train=model_tree.predict(X_train)\n",
    "    roc_test_score= roc_auc_score(y_test, y_hat_test)\n",
    "    roc_test.append(roc_test_score)\n",
    "    roc_train_score= roc_auc_score(y_train,y_hat_train)\n",
    "    roc_train.append(roc_train_score)\n",
    "\n",
    "plt.plot(arr,roc_test, label = 'test')\n",
    "plt.plot(arr,roc_train, label= 'train')\n",
    "plt.ylabel('AUC Score')\n",
    "plt.xlabel('Min Samples Leaf')\n",
    "plt.title('AUC Score Vs. Min Samples Leaf')\n",
    "plt.legend()\n",
    "plt.show();\n",
    "# Your code here \n",
    "# Your code here "
   ]
  },
  {
   "cell_type": "markdown",
   "metadata": {},
   "source": [
    "# Your observations here \n",
    "Having the lowest minimum sample leaf will not necesarily retrieve the best AUC Score"
   ]
  },
  {
   "cell_type": "markdown",
   "metadata": {},
   "source": [
    "## Maximum Features\n",
    "\n",
    "Now check for the best `max_features` parameter value for our decision tree. \n",
    "- Create an array for for `max_features` values ranging from 1 - 12 (1 features vs all)\n",
    "- In a loop, train the classifier for each `max_features` value (12 runs) \n",
    "- Calculate the training and test AUC for each run \n",
    "- Plot a graph to show under/over fitting and optimal value \n",
    "- Interpret the results"
   ]
  },
  {
   "cell_type": "code",
   "execution_count": 78,
   "metadata": {},
   "outputs": [],
   "source": [
    "# Find the best value for optimal maximum feature size\n",
    "\n",
    "# Calculate the optimal value for minimum sample leafs\n",
    "# Identify the optimal min-samples-split for given data\n",
    "import numpy as np\n",
    "arr= np.arange(1,12)\n",
    "roc_test = []\n",
    "roc_train = []\n",
    "for i in arr:\n",
    "    clf= DecisionTreeClassifier(criterion= 'entropy', max_features=i)\n",
    "    model_tree= clf.fit(X_train,y_train)\n",
    "    y_hat_test= model_tree.predict(X_test)\n",
    "    y_hat_train=model_tree.predict(X_train)\n",
    "    roc_test_score= roc_auc_score(y_test, y_hat_test)\n",
    "    roc_test.append(roc_test_score)\n",
    "    roc_train_score= roc_auc_score(y_train,y_hat_train)\n",
    "    roc_train.append(roc_train_score)\n",
    "\n",
    "plt.plot(arr,roc_test, label = 'test')\n",
    "plt.plot(arr,roc_train, label= 'train')\n",
    "plt.ylabel('AUC Score')\n",
    "plt.xlabel('Max Features')\n",
    "plt.title('AUC Score Vs. Max Features')\n",
    "plt.legend()\n",
    "plt.show();\n",
    "# Your code here \n",
    "# Your code here \n",
    "# Your code here "
   ]
  },
  {
   "cell_type": "code",
   "execution_count": 77,
   "metadata": {},
   "outputs": [],
   "source": [
    "# Your observations here \n",
    "\n"
   ]
  },
  {
   "cell_type": "markdown",
   "metadata": {},
   "source": [
    "## Re-train the classifier with chosen values\n",
    "\n",
    "So now we shall use the best values from each training phase above and feed it back to our classifier and see if have any improvement in predictive performance. \n",
    "\n",
    "- Train the classifier with optimal values identified \n",
    "- compare the AUC with vanilla DT AUC \n",
    "- Interpret the results of comparison"
   ]
  },
  {
   "cell_type": "code",
   "execution_count": 192,
   "metadata": {},
   "outputs": [
    {
     "data": {
      "text/plain": [
       "0.7348379629629629"
      ]
     },
     "execution_count": 192,
     "metadata": {},
     "output_type": "execute_result"
    }
   ],
   "source": [
    "# train a classifier with optimal values identified above\n",
    "# Find the best value for optimal maximum feature size\n",
    "\n",
    "# Calculate the optimal value for minimum sample leafs\n",
    "# Identify the optimal min-samples-split for given data\n",
    "import numpy as np\n",
    "clf= DecisionTreeClassifier(criterion= 'entropy', max_features=i)\n",
    "model_tree= clf.fit(X_train,y_train)\n",
    "y_hat_test= model_tree.predict(X_test)\n",
    "y_hat_train=model_tree.predict(X_train)\n",
    "roc_auc_score(y_test, y_hat_test)\n",
    "roc_auc_score(y_train,y_hat_train)\n",
    "\n",
    "# Your code here "
   ]
  },
  {
   "cell_type": "code",
   "execution_count": null,
   "metadata": {},
   "outputs": [],
   "source": [
    "# You observations here \n"
   ]
  },
  {
   "cell_type": "markdown",
   "metadata": {},
   "source": [
    "In the next section, we shall talk about hyper-parameter tuning using a technique called \"grid-search\" to make this process even more granular and decisive. \n"
   ]
  },
  {
   "cell_type": "markdown",
   "metadata": {},
   "source": [
    "## Summary \n",
    "\n",
    "In this lesson, we looked at tuning a decision tree classifier in order to avoid over fitting and increasing the generalization capabilities of the classifier. For the Titanic dataset, we see that identifying optimal parameter values can result in some improvements towards predictions. This idea will be exploited further in upcoming lessons and labs. "
   ]
  }
 ],
 "metadata": {
  "kernelspec": {
   "display_name": "Python 3",
   "language": "python",
   "name": "python3"
  },
  "language_info": {
   "codemirror_mode": {
    "name": "ipython",
    "version": 3
   },
   "file_extension": ".py",
   "mimetype": "text/x-python",
   "name": "python",
   "nbconvert_exporter": "python",
   "pygments_lexer": "ipython3",
   "version": "3.6.6"
  }
 },
 "nbformat": 4,
 "nbformat_minor": 2
}
